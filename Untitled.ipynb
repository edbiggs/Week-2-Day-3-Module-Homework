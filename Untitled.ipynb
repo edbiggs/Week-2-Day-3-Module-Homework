{
 "cells": [
  {
   "cell_type": "code",
   "execution_count": null,
   "id": "2b768ff4-83cd-4bb6-8c33-b0c6b33fc7b6",
   "metadata": {},
   "outputs": [
    {
     "name": "stdout",
     "output_type": "stream",
     "text": [
      "Welcome to the House Square Footage Calculator O-matic 5000, the world's most advanced house square footage calculator this side of the Mississippi!\n"
     ]
    },
    {
     "name": "stdin",
     "output_type": "stream",
     "text": [
      "what is the length of your house? (Please use digits only) 348790\n",
      "What is the width of your house? (Please use digits only) 4567\n"
     ]
    },
    {
     "name": "stdout",
     "output_type": "stream",
     "text": [
      "Please wait while we calculate your results...\n",
      "Processing information...\n",
      "Establishing connection with server...\n",
      "Connection failed, trying again...\n",
      "Optimizing shaders...\n",
      "Rendering polygons...\n",
      "Initializing VSync...\n",
      "Lost connection to server, reestablishing connection...\n"
     ]
    },
    {
     "name": "stdin",
     "output_type": "stream",
     "text": [
      "We're having trouble connecting to the server. Would you like to wait or quit? vaf\n"
     ]
    },
    {
     "name": "stdout",
     "output_type": "stream",
     "text": [
      "Command not recognized. Continuing to connect to server...\n",
      "Succesfully connected to server. Processing request...\n"
     ]
    }
   ],
   "source": [
    "import module\n",
    "import time\n",
    "import random\n",
    "\n",
    "#Exercise 1\n",
    "while True:\n",
    "    print(\"Welcome to the House Square Footage Calculator O-matic 5000, the world's most advanced house square footage calculator this side of the Mississippi!\")\n",
    "\n",
    "    try:\n",
    "        length,width = int(input(\"what is the length of your house? (Please use digits only)\")), int(input(\"What is the width of your house? (Please use digits only)\"))\n",
    "    except:\n",
    "        print(\"Something went wrong. I'm not saying it's your fault, but it probably is. Let's try that again, but this time do better:\")\n",
    "        continue\n",
    "        \n",
    "    # Everything between the \"Nonsense Start\" and \"Nonsense Stop\" lines is totally unnecessary and \n",
    "    #exists solely for my own entertainment/educational purposes. Please feel free to comment it out.\n",
    "\n",
    "    #Nonsense Start:\n",
    "    print(\"Please wait while we calculate your results...\")\n",
    "    time.sleep(random.randrange(5))\n",
    "               \n",
    "    print(\"Processing information...\")\n",
    "    time.sleep(random.randrange(5))\n",
    "               \n",
    "    print(\"Establishing connection with server...\")\n",
    "    time.sleep(random.randrange(5))\n",
    "               \n",
    "    print(\"Connection failed, trying again...\")\n",
    "    time.sleep(random.randrange(5))\n",
    "               \n",
    "    print(\"Optimizing shaders...\")\n",
    "    time.sleep(random.randrange(5))\n",
    "               \n",
    "    print(\"Rendering polygons...\")\n",
    "    time.sleep(random.randrange(5))\n",
    "               \n",
    "    print(\"Initializing VSync...\")\n",
    "    time.sleep(random.randrange(5))\n",
    "               \n",
    "    print(\"Lost connection to server, reestablishing connection...\")\n",
    "    time.sleep(random.randrange(5))\n",
    "               \n",
    "    quit_prompt = input(\"We're having trouble connecting to the server. Would you like to wait or quit?\").lower()\n",
    "    if quit_prompt == \"quit\":\n",
    "        break\n",
    "    elif quit_prompt == \"wait\":\n",
    "        pass\n",
    "    else:\n",
    "        print(\"Command not recognized. Continuing to connect to server...\")\n",
    "    time.sleep(random.randrange(5))\n",
    "\n",
    "    print(\"Succesfully connected to server. Processing request...\")\n",
    "    time.sleep(random.randrange(5))\n",
    "\n",
    "    print(\"Installing drivers...\")\n",
    "    time.sleep(random.randrange(5))\n",
    "\n",
    "    print(\"Extracting files...\")\n",
    "    time.sleep(random.randrange(5))\n",
    "\n",
    "    print(\"Homogenizing RAM ports...\")\n",
    "    time.sleep(random.randrange(5))  \n",
    "\n",
    "    print(\"Encrypting kernel protocols...\")\n",
    "    time.sleep(random.randrange(5))\n",
    "\n",
    "    print(\"Having a quick snack, brb...\")\n",
    "    time.sleep(random.randrange(5))\n",
    "\n",
    "    print(\"Importing numbers: 4, 17, 319, and 49,382...\")\n",
    "    time.sleep(random.randrange(5))\n",
    "    \n",
    "    #Nonsense Stop\n",
    "    \n",
    "    print(f\"Your house is {module.get_area(length, width)} square feet\")\n",
    "    break\n",
    "\n",
    "#Exercise 2\n",
    "while True:\n",
    "    try:\n",
    "        radius = int(input(\"What is the radius of the circle you want to measure?\"))\n",
    "    except:\n",
    "        print(\"Please type a valid number (digits only)\")\n",
    "        continue\n",
    "    print(f\"The circumference of the circle is {module.get_circumference(radius)}\")\n",
    "    break\n",
    "\n"
   ]
  },
  {
   "cell_type": "code",
   "execution_count": null,
   "id": "4bff2765-5975-4935-8fc1-9ebd91f23ae3",
   "metadata": {},
   "outputs": [],
   "source": []
  },
  {
   "cell_type": "code",
   "execution_count": null,
   "id": "d6265b99-5ad8-4998-88ba-ab73d5a215fe",
   "metadata": {},
   "outputs": [],
   "source": []
  },
  {
   "cell_type": "code",
   "execution_count": null,
   "id": "e3bc4c3e-1dfc-4bef-9a1e-11b2929159c0",
   "metadata": {},
   "outputs": [],
   "source": []
  }
 ],
 "metadata": {
  "kernelspec": {
   "display_name": "Python 3 (ipykernel)",
   "language": "python",
   "name": "python3"
  },
  "language_info": {
   "codemirror_mode": {
    "name": "ipython",
    "version": 3
   },
   "file_extension": ".py",
   "mimetype": "text/x-python",
   "name": "python",
   "nbconvert_exporter": "python",
   "pygments_lexer": "ipython3",
   "version": "3.11.3"
  }
 },
 "nbformat": 4,
 "nbformat_minor": 5
}
